{
 "cells": [
  {
   "cell_type": "markdown",
   "metadata": {},
   "source": [
    "1. Write a function that inputs a number and prints the multiplication table of that number"
   ]
  },
  {
   "cell_type": "code",
   "execution_count": 1,
   "metadata": {},
   "outputs": [
    {
     "name": "stdout",
     "output_type": "stream",
     "text": [
      "Enter a number45\n",
      "45 * 1 = 45.0\n",
      "45 * 2 = 90.0\n",
      "45 * 3 = 135.0\n",
      "45 * 4 = 180.0\n",
      "45 * 5 = 225.0\n",
      "45 * 6 = 270.0\n",
      "45 * 7 = 315.0\n",
      "45 * 8 = 360.0\n",
      "45 * 9 = 405.0\n",
      "45 * 10 = 450.0\n"
     ]
    }
   ],
   "source": [
    "input_num = input(\"Enter a number\")\n",
    "\n",
    "for num in range(1,11):\n",
    "    \"num= num*int(input_num)\"\n",
    "    print(input_num,\"*\",num ,\"=\",num*float(input_num))"
   ]
  },
  {
   "cell_type": "markdown",
   "metadata": {},
   "source": [
    "2. Write a program to print twin primes less than 1000. If two consecutive odd numbers are\n",
    "   both prime then they are known as twin primes"
   ]
  },
  {
   "cell_type": "code",
   "execution_count": 2,
   "metadata": {},
   "outputs": [
    {
     "name": "stdout",
     "output_type": "stream",
     "text": [
      "(1, 3)\n",
      "(3, 5)\n",
      "(5, 7)\n",
      "(7, 9)\n",
      "(9, 11)\n",
      "(11, 13)\n",
      "(13, 15)\n",
      "(15, 17)\n",
      "(17, 19)\n",
      "(19, 21)\n",
      "(21, 23)\n",
      "(23, 25)\n",
      "(25, 27)\n",
      "(27, 29)\n",
      "(29, 31)\n",
      "(31, 33)\n",
      "(33, 35)\n",
      "(35, 37)\n",
      "(37, 39)\n",
      "(39, 41)\n",
      "(41, 43)\n",
      "(43, 45)\n",
      "(45, 47)\n",
      "(47, 49)\n",
      "(49, 51)\n",
      "(51, 53)\n",
      "(53, 55)\n",
      "(55, 57)\n",
      "(57, 59)\n",
      "(59, 61)\n",
      "(61, 63)\n",
      "(63, 65)\n",
      "(65, 67)\n",
      "(67, 69)\n",
      "(69, 71)\n",
      "(71, 73)\n",
      "(73, 75)\n",
      "(75, 77)\n",
      "(77, 79)\n",
      "(79, 81)\n",
      "(81, 83)\n",
      "(83, 85)\n",
      "(85, 87)\n",
      "(87, 89)\n",
      "(89, 91)\n",
      "(91, 93)\n",
      "(93, 95)\n",
      "(95, 97)\n",
      "(97, 99)\n",
      "(99, 101)\n"
     ]
    }
   ],
   "source": [
    "for i in range(1,100):\n",
    "    if(i%2 !=0):\n",
    "        print((i,i+2))"
   ]
  },
  {
   "cell_type": "markdown",
   "metadata": {},
   "source": [
    "3. Write a program to find out the prime factors of a number. Example: prime factors of 56 -\n",
    "   2, 2, 2, 7"
   ]
  },
  {
   "cell_type": "code",
   "execution_count": 4,
   "metadata": {},
   "outputs": [
    {
     "name": "stdout",
     "output_type": "stream",
     "text": [
      "Enter a number87\n",
      "3\n",
      "29.0\n"
     ]
    }
   ],
   "source": [
    "import math\n",
    "\n",
    "def primefactors(n):\n",
    "\n",
    "\n",
    "    while(n % 2 == 0):\n",
    "        print(2)\n",
    "        n=n/2\n",
    "    \n",
    "    for i in range(3,int(math.sqrt(n))+1 , 2):\n",
    "        while(n % i == 0):\n",
    "            print(i)\n",
    "            n=n/i\n",
    "            \n",
    "        \n",
    "    if (n > 2):\n",
    "        print(n)\n",
    "        \n",
    "        \n",
    "        \n",
    "        \n",
    "n=input(\"Enter a number\")\n",
    "primefactors(int(n))\n",
    "        \n",
    "        \n"
   ]
  },
  {
   "cell_type": "markdown",
   "metadata": {},
   "source": [
    "4. Write a program to implement these formulae of permutations and combinations.\n",
    "   Number of permutations of n objects taken r at a time: p(n, r) = n! / (n-r)!. Number of\n",
    "   combinations of n objects taken r at a time is: c(n, r) = n! / (r!*(n-r)!) = p(n,r) / r!"
   ]
  },
  {
   "cell_type": "code",
   "execution_count": 5,
   "metadata": {},
   "outputs": [
    {
     "name": "stdout",
     "output_type": "stream",
     "text": [
      "Enter a number :87\n",
      "Enter second number :56\n",
      "87\n",
      "56\n",
      "result : 7.946218939437255e+99\n"
     ]
    }
   ],
   "source": [
    "def permutation_formul():\n",
    "  n = input(\"Enter a number :\")\n",
    "  r = input(\"Enter second number :\")\n",
    "\n",
    "  print (n)\n",
    "  print (r)\n",
    "\n",
    "  n_fact=1\n",
    "  nminr_fact=1\n",
    "\n",
    "  for i in range (1,(int(n)-int(r))):\n",
    "    nminr_fact = nminr_fact * i\n",
    "\n",
    "  for i in range (1,int(n)+1):\n",
    "    n_fact = n_fact * i\n",
    "    \n",
    "\n",
    "  print (\"result :\" ,(n_fact/nminr_fact))\n",
    "\n",
    "\n",
    "permutation_formul()"
   ]
  },
  {
   "cell_type": "markdown",
   "metadata": {},
   "source": [
    "5. Write a function that converts a decimal number to binary number"
   ]
  },
  {
   "cell_type": "code",
   "execution_count": 6,
   "metadata": {},
   "outputs": [
    {
     "name": "stdout",
     "output_type": "stream",
     "text": [
      "Enter a number to convert to binary :76\n",
      "[0, 0, 0, 0, 0, 0, 0, 0, 0, 0, 0, 0, 0, 0, 0, 0, 0, 0, 0, 0, 0, 0, 0, 0, 0, 0, 0, 0, 0, 0, 0, 0, 0, 0, 0, 0, 0, 0, 0, 0, 0, 0, 0, 0, 0, 0, 0, 0, 0, 0, 0, 0, 0, 0, 0, 0, 0, 0, 0, 0, 0, 0, 0, 0, 0, 0, 0, 0, 0, 1, 0, 0, 1, 1, 0, 0]\n"
     ]
    }
   ],
   "source": [
    "def decimal_to_binary(n):\n",
    "    \n",
    "    arr = [0]*n\n",
    "    \n",
    "    i=0\n",
    "    if(n > 0):\n",
    "        while (n > 0):\n",
    "            arr[i] = n % 2\n",
    "            n = int(n/2)\n",
    "            i+=1\n",
    "        arr.reverse()\n",
    "        print(arr)\n",
    "        \n",
    "    \n",
    "n= input(\"Enter a number to convert to binary :\")\n",
    "decimal_to_binary(int(n))"
   ]
  },
  {
   "cell_type": "markdown",
   "metadata": {},
   "source": [
    "6. Write a function cubesum() that accepts an integer and returns the sum of the cubes of\n",
    "   individual digits of that number. Use this function to make functions PrintArmstrong() and\n",
    "   isArmstrong() to print Armstrong numbers and to find whether is an Armstrong number."
   ]
  },
  {
   "cell_type": "code",
   "execution_count": 7,
   "metadata": {},
   "outputs": [
    {
     "name": "stdout",
     "output_type": "stream",
     "text": [
      "Enter a number :56\n",
      "['5', '6']\n",
      "[125, 216]\n",
      "341\n",
      "Not a armstrong number\n"
     ]
    }
   ],
   "source": [
    "lst = input(\"Enter a number :\")\n",
    "num = int(lst)\n",
    "lst = list(lst)\n",
    "print(lst)\n",
    "\n",
    "def cubesum(lst):\n",
    "    sum = 0\n",
    "    for i in range(len(lst)):\n",
    "        lst[i]=int(lst[i])**3\n",
    "        sum +=int(lst[i])\n",
    "    print(lst)\n",
    "    print(sum)\n",
    "\n",
    "    \n",
    "    def isArmstrong():\n",
    "        if(num==sum):\n",
    "            print(\"armstrong number\")\n",
    "        else:\n",
    "            print(\"Not a armstrong number\")\n",
    "\n",
    "    \n",
    "    isArmstrong()\n",
    "\n",
    "\n",
    "    \n",
    "\n",
    "cubesum(lst)  \n",
    "\n",
    "\n",
    "\n"
   ]
  },
  {
   "cell_type": "markdown",
   "metadata": {},
   "source": [
    "7. Write a function prodDigits() that inputs a number and returns the product of digits of that\n",
    "number."
   ]
  },
  {
   "cell_type": "code",
   "execution_count": 8,
   "metadata": {},
   "outputs": [
    {
     "name": "stdout",
     "output_type": "stream",
     "text": [
      "Enter a number87\n",
      "56\n"
     ]
    }
   ],
   "source": [
    "def prodDigits(num):\n",
    "    \n",
    "    num = list(num)\n",
    "    prod = 1;\n",
    "    for i in range(len(num)):\n",
    "        \n",
    "        prod *= int(num[i])\n",
    "    print(prod)\n",
    "        \n",
    "\n",
    "prod = input(\"Enter a number\")\n",
    "\n",
    "prodDigits(prod)"
   ]
  },
  {
   "cell_type": "markdown",
   "metadata": {},
   "source": [
    "8. If all digits of a number n are multiplied by each other repeating with the product, the one\n",
    "digit number obtained at last is called the multiplicative digital root of n. The number of\n",
    "times digits need to be multiplied to reach one digit is called the multiplicative\n",
    "persistance of n.\n",
    "Example: 86 -> 48 -> 32 -> 6 (MDR 6, MPersistence 3)\n",
    "341 -> 12->2 (MDR 2, MPersistence 2)\n",
    "Using the function prodDigits() of previous exercise write functions MDR() and\n",
    "MPersistence() that input a number and return its multiplicative digital root and\n",
    "multiplicative persistence respectively"
   ]
  },
  {
   "cell_type": "code",
   "execution_count": 2,
   "metadata": {},
   "outputs": [
    {
     "name": "stdout",
     "output_type": "stream",
     "text": [
      "Enter a number :456\n",
      "4\n",
      "5\n",
      "inside while prod_1 0\n",
      "inside while prod 2\n",
      "6\n",
      "inside while prod_1 2\n",
      "inside while prod 1\n",
      "1\n",
      "1\n"
     ]
    }
   ],
   "source": [
    "def prodDigits(num):\n",
    "    \n",
    "    num = list(num)\n",
    "    prod = 1;\n",
    "    \n",
    "    for i in range(len(num)):\n",
    "        print(num[i])\n",
    "        \n",
    "        prod *= int(num[i])\n",
    "        \n",
    "        prod_1 = 1\n",
    "        \n",
    "        if prod > 9:\n",
    "            \n",
    "            while(prod > 10 ):\n",
    "                \n",
    "                prod_1 *= prod_1 * (prod % 10)\n",
    "                print(\"inside while prod_1\",prod_1)\n",
    "                prod = prod // 10\n",
    "                print(\"inside while prod\",prod)\n",
    "                \n",
    "                \n",
    "\n",
    "            \n",
    "            \n",
    "            \n",
    "    print(prod)\n",
    "\n",
    "\n",
    "def MPersistence(num):\n",
    "    \n",
    "    if(len(num)!=1):\n",
    "        count = 0\n",
    "        prodDigits(num)\n",
    "        count = count+1\n",
    "    \n",
    "    \n",
    "    print(count)\n",
    "    \n",
    "\n",
    "\n",
    "\n",
    "   \n",
    "    \n",
    "        \n",
    "prod = input(\"Enter a number :\")\n",
    "\n",
    "MPersistence(prod)"
   ]
  },
  {
   "cell_type": "markdown",
   "metadata": {},
   "source": [
    "9. Write a function sumPdivisors() that finds the sum of proper divisors of a number. Proper\n",
    "divisors of a number are those numbers by which the number is divisible, except the\n",
    "number itself. For example proper divisors of 36 are 1, 2, 3, 4, 6, 9, 18"
   ]
  },
  {
   "cell_type": "code",
   "execution_count": null,
   "metadata": {},
   "outputs": [],
   "source": [
    "def sumPdivisors(num):\n",
    "    \n",
    "    lst = []\n",
    "    for i in range(int(num)):\n",
    "        \n",
    "        div = int(num)%(i+1)\n",
    "        \n",
    "        if(div == 0 and  (i +1) != int(num)):\n",
    "            lst.append(i+1)\n",
    "        \n",
    "    print(lst)\n",
    "    \n",
    "    sum = 0\n",
    "    for i in lst:\n",
    "        sum += i\n",
    "        \n",
    "    print(\"Sum of divisors\",sum)\n",
    "div = input(\"Enter a number\")\n",
    "\n",
    "sumPdivisors(div)"
   ]
  },
  {
   "cell_type": "markdown",
   "metadata": {},
   "source": [
    "10. A number is called perfect if the sum of proper divisors of that number is equal to the\n",
    "number. For example 28 is perfect number, since 1+2+4+7+14=28. Write a program to\n",
    "print all the perfect numbers in a given range"
   ]
  },
  {
   "cell_type": "code",
   "execution_count": null,
   "metadata": {},
   "outputs": [],
   "source": [
    "def perfectNum(num):\n",
    "    \n",
    "    lst = []\n",
    "    sum = 0\n",
    "    for i in range(int(num)):\n",
    "        \n",
    "        div = int(num)%(i+1)\n",
    "        \n",
    "        if(div == 0 and  (i +1) != int(num)):\n",
    "            lst.append(i+1)\n",
    "        \n",
    "    for j in lst:\n",
    "        print(j)\n",
    "        sum += j\n",
    "           \n",
    "    \n",
    "    if (sum == int(num)):\n",
    "        print(\"Perfect Number\")\n",
    "    \n",
    "    print(\"Sum \",sum)   \n",
    "    print(lst)\n",
    "    \n",
    "    \n",
    "\n",
    "num = input(\"Enter a number:\")\n",
    "perfectNum(num)"
   ]
  },
  {
   "cell_type": "markdown",
   "metadata": {},
   "source": [
    "11. Two different numbers are called amicable numbers if the sum of the proper divisors of\n",
    "each is equal to the other number. For example 220 and 284 are amicable numbers.\n",
    "Sum of proper divisors of 220 = 1+2+4+5+10+11+20+22+44+55+110 = 284\n",
    "Sum of proper divisors of 284 = 1+2+4+71+142 = 220\n",
    "Write a function to print pairs of amicable numbers in a range"
   ]
  },
  {
   "cell_type": "code",
   "execution_count": 21,
   "metadata": {},
   "outputs": [
    {
     "name": "stdout",
     "output_type": "stream",
     "text": [
      "Enter a number:678\n",
      "Amicable Numbers: \n",
      "1   1\n",
      "Amicable Numbers: \n",
      "2   3\n",
      "Amicable Numbers: \n",
      "3   6\n",
      "Amicable Numbers: \n",
      "6   12\n",
      "Amicable Numbers: \n",
      "113   125\n",
      "Amicable Numbers: \n",
      "226   351\n",
      "Amicable Numbers: \n",
      "339   690\n"
     ]
    }
   ],
   "source": [
    "def amicable_Num(num):\n",
    "    \n",
    "    lst = []\n",
    "    \n",
    "    sum = 0\n",
    "    for i in range(int(num)):\n",
    "        \n",
    "        div = int(num)%(i+1)\n",
    "        \n",
    "        if(div == 0 and  (i +1) != int(num)):\n",
    "            lst.append(i+1)\n",
    "        \n",
    "    for j in lst:\n",
    "        \"\"\"print(j)\"\"\"\n",
    "        sum += j\n",
    "           \n",
    "    \n",
    "    \n",
    "        print(\"Amicable Numbers: \")\n",
    "        print(j,\" \",sum)   \n",
    "       \n",
    "        \"\"\"print(lst)\"\"\"\n",
    "    \n",
    "    \n",
    "\n",
    "num = input(\"Enter a number:\")\n",
    "\n",
    "amicable_Num(num)"
   ]
  },
  {
   "cell_type": "markdown",
   "metadata": {},
   "source": [
    "12. Write a program which can filter odd numbers in a list by using filter function"
   ]
  },
  {
   "cell_type": "code",
   "execution_count": null,
   "metadata": {},
   "outputs": [],
   "source": [
    "def oddFilter(lst):\n",
    "    \n",
    "    odd =[]\n",
    "    for i in lst:\n",
    "        \n",
    "        if( i%2 != 0):\n",
    "            odd.append(i)\n",
    "            \n",
    "    print(\"Odd Number :\",odd)        \n",
    "lst = []\n",
    "\n",
    "for i in range(1,200):\n",
    "    lst.append(i)\n",
    "    \n",
    "filter(oddFilter(lst), lst)"
   ]
  },
  {
   "cell_type": "markdown",
   "metadata": {},
   "source": [
    "13. Write a program which can map() to make a list whose elements are cube of elements in\n",
    "a given list"
   ]
  },
  {
   "cell_type": "code",
   "execution_count": null,
   "metadata": {},
   "outputs": [],
   "source": [
    "\n",
    "def cubList(lst):\n",
    "    \n",
    "    cube = []\n",
    "    \n",
    "    \n",
    "    for i in lst:\n",
    "        i = i ** 3\n",
    "        cube.append(i)\n",
    "    \n",
    "    print(\"Cube List :\", cube)\n",
    "    \n",
    "lst= []\n",
    "\n",
    "for i in range(1,10):\n",
    "    \n",
    "    lst.append(i)\n",
    "    \n",
    "print(lst)\n",
    "\n",
    "map(cubList(lst),lst)"
   ]
  },
  {
   "cell_type": "markdown",
   "metadata": {},
   "source": [
    "Write a program which can map() and filter() to make a list whose elements are cube of\n",
    "even number in a given list"
   ]
  },
  {
   "cell_type": "code",
   "execution_count": null,
   "metadata": {},
   "outputs": [],
   "source": [
    "lst = []\n",
    "even = []\n",
    "cube =[]\n",
    "for i in range(1, 20):\n",
    "    lst.append(i)\n",
    "    \n",
    "def even_lst():\n",
    "    \n",
    "   \n",
    "    for i in lst:\n",
    "        if (i % 2 == 0):\n",
    "            even.append(i)\n",
    "    \n",
    "    print (\"Even List :\",even)\n",
    "            \n",
    "\n",
    "def cube_lst():\n",
    "    \n",
    "    for i in even:\n",
    "        i = i ** 3\n",
    "        cube.append(i)\n",
    "    print(\"Cube List :\",cube)\n",
    "        \n",
    "filter(even_lst(),lst)\n",
    "map(cube_lst(),even)"
   ]
  },
  {
   "cell_type": "code",
   "execution_count": null,
   "metadata": {},
   "outputs": [],
   "source": []
  }
 ],
 "metadata": {
  "kernelspec": {
   "display_name": "Python 3",
   "language": "python",
   "name": "python3"
  },
  "language_info": {
   "codemirror_mode": {
    "name": "ipython",
    "version": 3
   },
   "file_extension": ".py",
   "mimetype": "text/x-python",
   "name": "python",
   "nbconvert_exporter": "python",
   "pygments_lexer": "ipython3",
   "version": "3.5.2"
  }
 },
 "nbformat": 4,
 "nbformat_minor": 2
}
